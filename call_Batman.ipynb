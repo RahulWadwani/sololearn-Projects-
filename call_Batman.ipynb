{
 "cells": [
  {
   "cell_type": "markdown",
   "id": "49334d53",
   "metadata": {},
   "source": [
    "# Gotham City "
   ]
  },
  {
   "cell_type": "code",
   "execution_count": null,
   "id": "f1b0b10e",
   "metadata": {},
   "outputs": [],
   "source": [
    "criminals = int(input(\"Enter the number of criminials present at the scene: \"))\n",
    "if criminals <=5:\n",
    "    print('I got this')\n",
    "elif (criminals >5 and criminals <=10):\n",
    "    print('Help me batman')\n",
    "else:\n",
    "    print('Good luck out there! ')"
   ]
  }
 ],
 "metadata": {
  "kernelspec": {
   "display_name": "Python 3 (ipykernel)",
   "language": "python",
   "name": "python3"
  },
  "language_info": {
   "codemirror_mode": {
    "name": "ipython",
    "version": 3
   },
   "file_extension": ".py",
   "mimetype": "text/x-python",
   "name": "python",
   "nbconvert_exporter": "python",
   "pygments_lexer": "ipython3",
   "version": "3.9.6"
  }
 },
 "nbformat": 4,
 "nbformat_minor": 5
}
