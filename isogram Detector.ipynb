{
 "cells": [
  {
   "cell_type": "markdown",
   "id": "19a383ee",
   "metadata": {},
   "source": [
    "# Isogram Detector "
   ]
  },
  {
   "cell_type": "code",
   "execution_count": 5,
   "id": "9c30a4b5",
   "metadata": {},
   "outputs": [
    {
     "name": "stdout",
     "output_type": "stream",
     "text": [
      "enter a word hello\n",
      "11221\n"
     ]
    }
   ],
   "source": [
    "c = 0 \n",
    "word = str(input(\"enter a word \"))\n",
    "string = ''\n",
    "for i in word:\n",
    "    string += str(word.count(i))\n",
    "print(string)\n",
    "    "
   ]
  }
 ],
 "metadata": {
  "kernelspec": {
   "display_name": "Python 3 (ipykernel)",
   "language": "python",
   "name": "python3"
  },
  "language_info": {
   "codemirror_mode": {
    "name": "ipython",
    "version": 3
   },
   "file_extension": ".py",
   "mimetype": "text/x-python",
   "name": "python",
   "nbconvert_exporter": "python",
   "pygments_lexer": "ipython3",
   "version": "3.9.6"
  }
 },
 "nbformat": 4,
 "nbformat_minor": 5
}
