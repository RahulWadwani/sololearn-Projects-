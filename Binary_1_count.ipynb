{
 "cells": [
  {
   "cell_type": "markdown",
   "id": "a06fdb98",
   "metadata": {},
   "source": [
    "# Number of ones in binary representation of a number "
   ]
  },
  {
   "cell_type": "markdown",
   "id": "78b40cef",
   "metadata": {},
   "source": [
    "## 1) Using inbuilt Function"
   ]
  },
  {
   "cell_type": "code",
   "execution_count": 8,
   "id": "9bbc709f",
   "metadata": {},
   "outputs": [
    {
     "name": "stdout",
     "output_type": "stream",
     "text": [
      "enter a decimal number : 5\n",
      "Number of 1s present in the number after converting into binary :  2\n"
     ]
    }
   ],
   "source": [
    "c = 0\n",
    "num = int(input(\"enter a decimal number : \"))\n",
    "bin_num = bin(num)\n",
    "for i in bin_num[2:]:\n",
    "    if int(i) == 1:\n",
    "        c+=1\n",
    "print('Number of 1s present in the number after converting into binary : ',c)"
   ]
  },
  {
   "cell_type": "markdown",
   "id": "f6b6b2eb",
   "metadata": {},
   "source": [
    "## 2) Using bitwise operator \n"
   ]
  },
  {
   "cell_type": "code",
   "execution_count": 9,
   "id": "32bfd743",
   "metadata": {},
   "outputs": [
    {
     "name": "stdout",
     "output_type": "stream",
     "text": [
      "Enter a Decimal number : 4\n",
      "Number of 1s present in the number after converting into binary :  1\n"
     ]
    }
   ],
   "source": [
    "def count(x):\n",
    "    n = 0 \n",
    "    while x:\n",
    "        n += x & 1\n",
    "        x >>= 1\n",
    "    return n\n",
    "\n",
    "x = int(input('Enter a Decimal number : '))\n",
    "print('Number of 1s present in the number after converting into binary : ',count(x))"
   ]
  }
 ],
 "metadata": {
  "kernelspec": {
   "display_name": "Python 3 (ipykernel)",
   "language": "python",
   "name": "python3"
  },
  "language_info": {
   "codemirror_mode": {
    "name": "ipython",
    "version": 3
   },
   "file_extension": ".py",
   "mimetype": "text/x-python",
   "name": "python",
   "nbconvert_exporter": "python",
   "pygments_lexer": "ipython3",
   "version": "3.9.6"
  }
 },
 "nbformat": 4,
 "nbformat_minor": 5
}
