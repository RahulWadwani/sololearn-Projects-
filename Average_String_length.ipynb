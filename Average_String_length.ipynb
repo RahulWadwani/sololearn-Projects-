{
 "cells": [
  {
   "cell_type": "markdown",
   "id": "ac0bf5dc",
   "metadata": {},
   "source": [
    "# Average Length of String"
   ]
  },
  {
   "cell_type": "code",
   "execution_count": null,
   "id": "6ad62068",
   "metadata": {},
   "outputs": [],
   "source": [
    "string = str(input(\"Enter a sentence: \"))\n",
    "words = string.split(' ')[:-1]\n",
    "total_words = len(words)\n",
    "lis = []\n",
    "for word in words:\n",
    "    lis.append(len(word))\n",
    "average = round(sum(lis)/total_words)\n",
    "print(average)"
   ]
  }
 ],
 "metadata": {
  "kernelspec": {
   "display_name": "Python 3 (ipykernel)",
   "language": "python",
   "name": "python3"
  },
  "language_info": {
   "codemirror_mode": {
    "name": "ipython",
    "version": 3
   },
   "file_extension": ".py",
   "mimetype": "text/x-python",
   "name": "python",
   "nbconvert_exporter": "python",
   "pygments_lexer": "ipython3",
   "version": "3.9.6"
  }
 },
 "nbformat": 4,
 "nbformat_minor": 5
}
