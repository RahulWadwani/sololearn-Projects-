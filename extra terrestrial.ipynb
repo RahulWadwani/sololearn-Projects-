{
 "cells": [
  {
   "cell_type": "markdown",
   "id": "34586793",
   "metadata": {},
   "source": [
    "# Extra Terrestrial"
   ]
  },
  {
   "cell_type": "code",
   "execution_count": 1,
   "id": "86f321ea",
   "metadata": {},
   "outputs": [
    {
     "name": "stdout",
     "output_type": "stream",
     "text": [
      "Enter a string : hello man how are you doing \n",
      " gniod uoy era woh nam olleh\n"
     ]
    }
   ],
   "source": [
    "string = str(input(\"Enter a string : \"))\n",
    "alien = string[::-1]\n",
    "print(alien)"
   ]
  }
 ],
 "metadata": {
  "kernelspec": {
   "display_name": "Python 3 (ipykernel)",
   "language": "python",
   "name": "python3"
  },
  "language_info": {
   "codemirror_mode": {
    "name": "ipython",
    "version": 3
   },
   "file_extension": ".py",
   "mimetype": "text/x-python",
   "name": "python",
   "nbconvert_exporter": "python",
   "pygments_lexer": "ipython3",
   "version": "3.9.6"
  }
 },
 "nbformat": 4,
 "nbformat_minor": 5
}
