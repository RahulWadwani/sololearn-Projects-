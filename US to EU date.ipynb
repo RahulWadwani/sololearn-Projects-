{
 "cells": [
  {
   "cell_type": "markdown",
   "id": "098accac",
   "metadata": {},
   "source": [
    "# displaying th date from US format to EU format"
   ]
  },
  {
   "cell_type": "markdown",
   "id": "afc005f9",
   "metadata": {},
   "source": [
    "## without date logic"
   ]
  },
  {
   "cell_type": "code",
   "execution_count": 9,
   "id": "d52600d9",
   "metadata": {},
   "outputs": [
    {
     "name": "stdout",
     "output_type": "stream",
     "text": [
      "30\n",
      "2\n",
      "2000\n",
      "US Format\n",
      "30/2/2000\n",
      "EU Format\n",
      "2/30/2000\n"
     ]
    }
   ],
   "source": [
    "date = int(input()) \n",
    "month = int(input())\n",
    "year = int(input())\n",
    "if date in range(1,32):\n",
    "    if month in range(1,13):\n",
    "        print('US Format')\n",
    "        print('{}/{}/{}'.format(date,month,year))\n",
    "        print('EU Format')\n",
    "        print('{}/{}/{}'.format(month,date,year))\n",
    "    else:\n",
    "        print(\"please input valid month\")\n",
    "else:\n",
    "    print(\"please enter valid date\")"
   ]
  },
  {
   "cell_type": "markdown",
   "id": "8645c624",
   "metadata": {},
   "source": [
    "## With date logic "
   ]
  },
  {
   "cell_type": "code",
   "execution_count": 7,
   "id": "d6c32a44",
   "metadata": {},
   "outputs": [
    {
     "name": "stdout",
     "output_type": "stream",
     "text": [
      "29\n",
      "2\n",
      "2000\n",
      "US format\n",
      "29 / 2 / 2000\n",
      "EU format\n",
      "2 / 29 / 2000\n"
     ]
    }
   ],
   "source": [
    "#defining the range of date month and year\n",
    "def date(d):\n",
    "    if d in range(1,32):\n",
    "        return d\n",
    "    else:\n",
    "        return False\n",
    "def month(m):\n",
    "    if m in range (1,13):\n",
    "        return m\n",
    "    else:\n",
    "        return False\n",
    "def year(y):\n",
    "        return y\n",
    "#taking the inputs \n",
    "d = int(input())\n",
    "m = int(input())\n",
    "y = int(input())\n",
    "\n",
    "# US FORMAT\n",
    "print('US format')\n",
    "if (month(m) == 2 and (year(y)%4 != 0)):                        #not a leap year \n",
    "    if date(d) in range(0,29):                                  #range of dates\n",
    "        print(date(d),'/',month(m),'/',year(y))\n",
    "        \n",
    "elif (month(m) % 2 == 1) :                                      #number of days in odd month for first 8 months \n",
    "    if (month(m) in range(1,8)):\n",
    "        print(date(d),'/',month(m),'/',year(y))\n",
    "    if (month(m) in range(8,13) and date(d) in range(1,31)):    #number of days for next 4 months \n",
    "        print(date(d),'/',month(m),'/',year(y))\n",
    "        \n",
    "elif (month(m) % 2 == 0) :                                      #number of days in even month for first 8 months\n",
    "    if (month(m) in range(1,8) and date(d) in range(0,31)):\n",
    "        print(date(d),'/',month(m),'/',year(y))\n",
    "    if (month(m) in range(8,13)):\n",
    "         print(date(d),'/',month(m),'/',year(y))                #number of days for next 4 months \n",
    "else:\n",
    "    if (year(y)%4 == 0 and date(d) in range(0,30)):\n",
    "         print(date(d),'/',month(m),'/',year(y))\n",
    "#EU FORMAT\n",
    "print('EU format')\n",
    "print(month(m),'/',date(d),'/',year(y))\n",
    "    "
   ]
  }
 ],
 "metadata": {
  "kernelspec": {
   "display_name": "Python 3 (ipykernel)",
   "language": "python",
   "name": "python3"
  },
  "language_info": {
   "codemirror_mode": {
    "name": "ipython",
    "version": 3
   },
   "file_extension": ".py",
   "mimetype": "text/x-python",
   "name": "python",
   "nbconvert_exporter": "python",
   "pygments_lexer": "ipython3",
   "version": "3.9.6"
  }
 },
 "nbformat": 4,
 "nbformat_minor": 5
}
