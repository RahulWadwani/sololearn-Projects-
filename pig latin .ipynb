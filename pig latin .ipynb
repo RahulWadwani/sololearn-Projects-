{
 "cells": [
  {
   "cell_type": "markdown",
   "id": "a72a57b5",
   "metadata": {},
   "source": [
    "# Pig latin "
   ]
  },
  {
   "cell_type": "code",
   "execution_count": 1,
   "id": "d11cbc04",
   "metadata": {},
   "outputs": [],
   "source": [
    "#your task is to take any sentence as input and put the first letter of each word at the last and add ay to it "
   ]
  },
  {
   "cell_type": "code",
   "execution_count": 31,
   "id": "3b16a88b",
   "metadata": {},
   "outputs": [
    {
     "name": "stdout",
     "output_type": "stream",
     "text": [
      "Enter a sentence this is a string\n",
      "<class 'str'>\n"
     ]
    }
   ],
   "source": [
    "string = str(input(\"Enter a sentence \"))\n",
    "words = string.split(' ')[:-1]\n",
    "sentence = ''\n",
    "for word in words :\n",
    "    sentence += word[1:]+  word[0] + 'ay' + ' '\n",
    "print(type(sentence ))\n"
   ]
  }
 ],
 "metadata": {
  "kernelspec": {
   "display_name": "Python 3 (ipykernel)",
   "language": "python",
   "name": "python3"
  },
  "language_info": {
   "codemirror_mode": {
    "name": "ipython",
    "version": 3
   },
   "file_extension": ".py",
   "mimetype": "text/x-python",
   "name": "python",
   "nbconvert_exporter": "python",
   "pygments_lexer": "ipython3",
   "version": "3.9.6"
  }
 },
 "nbformat": 4,
 "nbformat_minor": 5
}
