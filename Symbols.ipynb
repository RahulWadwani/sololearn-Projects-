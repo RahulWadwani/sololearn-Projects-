{
 "cells": [
  {
   "cell_type": "markdown",
   "id": "d097de1a",
   "metadata": {},
   "source": [
    "# Symbols"
   ]
  },
  {
   "cell_type": "code",
   "execution_count": null,
   "id": "191579a3",
   "metadata": {},
   "outputs": [],
   "source": [
    "string = str(input(\"Enter you symbol message: \"))\n",
    "decoded = ''\n",
    "for i in string:\n",
    "    if ((ord(i)>=65 and ord(i)<=90) or (ord(i)>=97 and ord(i)<=122) or (ord(i)==32)):\n",
    "        decoded += i\n",
    "print(decoded)"
   ]
  }
 ],
 "metadata": {
  "kernelspec": {
   "display_name": "Python 3 (ipykernel)",
   "language": "python",
   "name": "python3"
  },
  "language_info": {
   "codemirror_mode": {
    "name": "ipython",
    "version": 3
   },
   "file_extension": ".py",
   "mimetype": "text/x-python",
   "name": "python",
   "nbconvert_exporter": "python",
   "pygments_lexer": "ipython3",
   "version": "3.9.6"
  }
 },
 "nbformat": 4,
 "nbformat_minor": 5
}
