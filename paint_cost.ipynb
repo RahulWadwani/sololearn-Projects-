{
 "cells": [
  {
   "cell_type": "markdown",
   "id": "3ec16ec4",
   "metadata": {},
   "source": [
    "# paint costs"
   ]
  },
  {
   "cell_type": "code",
   "execution_count": 9,
   "id": "19a7bb54",
   "metadata": {},
   "outputs": [
    {
     "name": "stdout",
     "output_type": "stream",
     "text": [
      "Enter the number of colors you need : 10\n",
      "Total cost of purchased Item :Rs. 99\n"
     ]
    }
   ],
   "source": [
    "#Total colors as input\n",
    "total_colors = int(input(\"Enter the number of colors you need : \"))\n",
    "#cost of each paint\n",
    "cost = int(total_colors * 5) + 40 \n",
    "# including the tax\n",
    "total_cost = cost + (cost * (10/100))\n",
    "print(\"Total cost of purchased Item :Rs.\",int(total_cost))"
   ]
  }
 ],
 "metadata": {
  "kernelspec": {
   "display_name": "Python 3 (ipykernel)",
   "language": "python",
   "name": "python3"
  },
  "language_info": {
   "codemirror_mode": {
    "name": "ipython",
    "version": 3
   },
   "file_extension": ".py",
   "mimetype": "text/x-python",
   "name": "python",
   "nbconvert_exporter": "python",
   "pygments_lexer": "ipython3",
   "version": "3.9.6"
  }
 },
 "nbformat": 4,
 "nbformat_minor": 5
}
