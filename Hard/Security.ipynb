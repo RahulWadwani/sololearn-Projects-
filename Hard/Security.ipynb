{
 "cells": [
  {
   "cell_type": "code",
   "execution_count": null,
   "id": "4b5cb1e5",
   "metadata": {},
   "outputs": [],
   "source": [
    "# you are in charge of security at a casino, and there is a thief who is trying to steal the casino money look over the \n",
    "# security diagrams to make sure that you always have a guard between the thief and the money. there is one money location \n",
    "# one thief and any number of guards on each floor of the casino \n",
    "# evaluate a given floor of the casino to determine if there is a guard between the money and the thief if there is not you \n",
    "# will sound an alarm\n",
    "# a string that include $(money),T(thief) and G (guard), that represent the layout of the casino floor , space on the casino \n",
    "# floor that is not occupied by either money, the thief, or a guard is represented by the character x\n",
    "# output \n",
    "# a string that says 'ALARM' if the money is in danger or quiet if the money is safe "
   ]
  },
  {
   "cell_type": "code",
   "execution_count": 3,
   "id": "708eb1db",
   "metadata": {},
   "outputs": [
    {
     "name": "stdout",
     "output_type": "stream",
     "text": [
      "xxxxxGxxxx$xxxT\n",
      "ALARM\n"
     ]
    }
   ],
   "source": [
    "string = str(input())\n",
    "if 'T' in i:\n",
    "    print('ALARM')\n",
    "else:\n",
    "    print('quiet')"
   ]
  },
  {
   "cell_type": "code",
   "execution_count": null,
   "id": "777991e2",
   "metadata": {},
   "outputs": [],
   "source": []
  }
 ],
 "metadata": {
  "kernelspec": {
   "display_name": "Python 3 (ipykernel)",
   "language": "python",
   "name": "python3"
  },
  "language_info": {
   "codemirror_mode": {
    "name": "ipython",
    "version": 3
   },
   "file_extension": ".py",
   "mimetype": "text/x-python",
   "name": "python",
   "nbconvert_exporter": "python",
   "pygments_lexer": "ipython3",
   "version": "3.9.6"
  }
 },
 "nbformat": 4,
 "nbformat_minor": 5
}
