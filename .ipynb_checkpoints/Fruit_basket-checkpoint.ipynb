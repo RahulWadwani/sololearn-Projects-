{
 "cells": [
  {
   "cell_type": "markdown",
   "id": "2151effe",
   "metadata": {},
   "source": [
    "# Fruit Basket"
   ]
  },
  {
   "cell_type": "code",
   "execution_count": 2,
   "id": "bddbbc2a",
   "metadata": {},
   "outputs": [
    {
     "name": "stdout",
     "output_type": "stream",
     "text": [
      "Number of Fruits in a basket : 2\n",
      "Pies made  0\n",
      "Remaining apples is  1\n"
     ]
    }
   ],
   "source": [
    "total_Fruits = int(input(\"Number of Fruits in a basket : \"))\n",
    "apples = total_Fruits/2\n",
    "pie = apples // 3\n",
    "remaining_apples = apples % 3\n",
    "print(\"Pies made \",int(pie))\n",
    "print(\"Remaining apples is \",int(remaining_apples))"
   ]
  }
 ],
 "metadata": {
  "kernelspec": {
   "display_name": "Python 3 (ipykernel)",
   "language": "python",
   "name": "python3"
  },
  "language_info": {
   "codemirror_mode": {
    "name": "ipython",
    "version": 3
   },
   "file_extension": ".py",
   "mimetype": "text/x-python",
   "name": "python",
   "nbconvert_exporter": "python",
   "pygments_lexer": "ipython3",
   "version": "3.9.6"
  }
 },
 "nbformat": 4,
 "nbformat_minor": 5
}
