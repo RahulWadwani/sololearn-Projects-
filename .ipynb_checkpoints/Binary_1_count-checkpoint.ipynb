{
 "cells": [
  {
   "cell_type": "markdown",
   "id": "a06fdb98",
   "metadata": {},
   "source": [
    "#  number of ones in binary representation of a number "
   ]
  },
  {
   "cell_type": "code",
   "execution_count": 1,
   "id": "9bbc709f",
   "metadata": {},
   "outputs": [
    {
     "name": "stdout",
     "output_type": "stream",
     "text": [
      "enter a decimal number:9\n",
      "2\n"
     ]
    }
   ],
   "source": [
    "c = 0\n",
    "num = int(input(\"enter a decimal number:\"))\n",
    "bin_num = bin(num)\n",
    "for i in bin_num[2:]:\n",
    "    if int(i) == 1:\n",
    "        c+=1\n",
    "print(c)"
   ]
  }
 ],
 "metadata": {
  "kernelspec": {
   "display_name": "Python 3 (ipykernel)",
   "language": "python",
   "name": "python3"
  },
  "language_info": {
   "codemirror_mode": {
    "name": "ipython",
    "version": 3
   },
   "file_extension": ".py",
   "mimetype": "text/x-python",
   "name": "python",
   "nbconvert_exporter": "python",
   "pygments_lexer": "ipython3",
   "version": "3.9.6"
  }
 },
 "nbformat": 4,
 "nbformat_minor": 5
}
