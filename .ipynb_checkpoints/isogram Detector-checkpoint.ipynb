{
 "cells": [
  {
   "cell_type": "markdown",
   "id": "19a383ee",
   "metadata": {},
   "source": [
    "# Isogram Detector "
   ]
  },
  {
   "cell_type": "code",
   "execution_count": null,
   "id": "9c30a4b5",
   "metadata": {},
   "outputs": [],
   "source": [
    "c = 0 \n",
    "word = str(input(\"enter a word \"))\n",
    "for letters in word:\n",
    "    "
   ]
  }
 ],
 "metadata": {
  "kernelspec": {
   "display_name": "Python 3 (ipykernel)",
   "language": "python",
   "name": "python3"
  },
  "language_info": {
   "codemirror_mode": {
    "name": "ipython",
    "version": 3
   },
   "file_extension": ".py",
   "mimetype": "text/x-python",
   "name": "python",
   "nbconvert_exporter": "python",
   "pygments_lexer": "ipython3",
   "version": "3.9.6"
  }
 },
 "nbformat": 4,
 "nbformat_minor": 5
}
