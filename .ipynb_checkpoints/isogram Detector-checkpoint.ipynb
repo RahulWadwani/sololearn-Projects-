{
 "cells": [
  {
   "cell_type": "markdown",
   "id": "19a383ee",
   "metadata": {},
   "source": [
    "# Isogram Detector "
   ]
  },
  {
   "cell_type": "code",
   "execution_count": 40,
   "id": "9c30a4b5",
   "metadata": {},
   "outputs": [
    {
     "name": "stdout",
     "output_type": "stream",
     "text": [
      "enter a word hello\n",
      "1\n",
      "1\n",
      "2\n",
      "2\n",
      "1\n",
      "isogram\n"
     ]
    }
   ],
   "source": [
    "c = 0 \n",
    "word = str(input(\"enter a word \"))\n",
    "for i in word:\n",
    "    counter = word.count(i)\n",
    "    c += counter\n",
    "if c>len(word):\n",
    "    print('isogram')\n",
    "else:\n",
    "    print('Not an isogram')\n",
    "    "
   ]
  }
 ],
 "metadata": {
  "kernelspec": {
   "display_name": "Python 3 (ipykernel)",
   "language": "python",
   "name": "python3"
  },
  "language_info": {
   "codemirror_mode": {
    "name": "ipython",
    "version": 3
   },
   "file_extension": ".py",
   "mimetype": "text/x-python",
   "name": "python",
   "nbconvert_exporter": "python",
   "pygments_lexer": "ipython3",
   "version": "3.9.6"
  }
 },
 "nbformat": 4,
 "nbformat_minor": 5
}
