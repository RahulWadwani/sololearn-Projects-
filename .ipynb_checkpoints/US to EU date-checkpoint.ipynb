{
 "cells": [
  {
   "cell_type": "markdown",
   "id": "098accac",
   "metadata": {},
   "source": [
    "# displaying th date from US format to EU format"
   ]
  },
  {
   "cell_type": "markdown",
   "id": "48bed268",
   "metadata": {},
   "source": [
    "## approach 1"
   ]
  },
  {
   "cell_type": "code",
   "execution_count": null,
   "id": "aa20eabd",
   "metadata": {},
   "outputs": [],
   "source": [
    "date = int(input())\n",
    "month = int(input())\n",
    "year = int(input())\n",
    "\n",
    "def date_logic():\n",
    "    month_list = [m for m in range(1,13)]\n",
    "    if month in month_list:\n",
    "        if month % 2 == 1:\n",
    "            nos = [no for no in range(1,32)]\n",
    "        elif month == 2:\n",
    "            if year % 4 == 0:\n",
    "                nos = [no for no in range(1,30)]\n",
    "                return nos\n",
    "            else:\n",
    "                nos = [no for no in range(1,29)]\n",
    "                return nos\n",
    "        else:\n",
    "            nos = [no for no in range(1,31) ]\n",
    "        for i in nos:\n",
    "            if date == i:\n",
    "                print('For US')\n",
    "                print(date,'/',month,'/',year)\n",
    "                print('For EU')\n",
    "                print(month,'/',date,'/',year)\n",
    "            else:\n",
    "                print('Invalid Input Date')\n",
    "                break\n",
    "    else:\n",
    "        print('Invalid Input Month')\n",
    "date_logic()"
   ]
  },
  {
   "cell_type": "markdown",
   "id": "0058f793",
   "metadata": {},
   "source": [
    "## approach 2"
   ]
  },
  {
   "cell_type": "code",
   "execution_count": 33,
   "id": "1195c187",
   "metadata": {},
   "outputs": [
    {
     "name": "stdout",
     "output_type": "stream",
     "text": [
      "11 Sept 2021\n",
      "For US\n",
      "11 9 2021\n",
      "For Eu\n",
      "11\n"
     ]
    }
   ],
   "source": [
    "date = str(input())\n",
    "months ={1:'January',\n",
    "         2:'February',\n",
    "         3:'March',\n",
    "         4:'April', \n",
    "         5:'May',\n",
    "         6:'June',\n",
    "         7:'July',\n",
    "         8:'August',\n",
    "         9:'September',\n",
    "        10:'October',\n",
    "        11:'November',\n",
    "        12:'December'}\n",
    "dates = date.split(' ')\n",
    "for i in months:\n",
    "    if dates[1].lower() in months[i].lower():\n",
    "        temp = dates[0] + ' ' +dates[1].replace(str(dates[1]),str(i)) + ' ' + dates[2]\n",
    "        print('For US')\n",
    "        print(temp)\n",
    "        print('For Eu')\n",
    "        print(temp.split(' ')[0])\n",
    "\n"
   ]
  }
 ],
 "metadata": {
  "kernelspec": {
   "display_name": "Python 3 (ipykernel)",
   "language": "python",
   "name": "python3"
  },
  "language_info": {
   "codemirror_mode": {
    "name": "ipython",
    "version": 3
   },
   "file_extension": ".py",
   "mimetype": "text/x-python",
   "name": "python",
   "nbconvert_exporter": "python",
   "pygments_lexer": "ipython3",
   "version": "3.9.6"
  }
 },
 "nbformat": 4,
 "nbformat_minor": 5
}
