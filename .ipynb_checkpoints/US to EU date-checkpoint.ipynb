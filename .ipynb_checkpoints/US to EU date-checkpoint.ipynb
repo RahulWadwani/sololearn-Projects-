{
 "cells": [
  {
   "cell_type": "markdown",
   "id": "098accac",
   "metadata": {},
   "source": [
    "# displaying th date from US format to EU format"
   ]
  },
  {
   "cell_type": "markdown",
   "id": "48bed268",
   "metadata": {},
   "source": [
    "## approach 1"
   ]
  },
  {
   "cell_type": "code",
   "execution_count": 5,
   "id": "aa20eabd",
   "metadata": {},
   "outputs": [
    {
     "name": "stdout",
     "output_type": "stream",
     "text": [
      "12\n",
      "12\n",
      "2004\n",
      "[1, 2, 3, 4, 5, 6, 7, 8, 9, 10, 11, 12, 13, 14, 15, 16, 17, 18, 19, 20, 21, 22, 23, 24, 25, 26, 27, 28, 29, 30]\n",
      "12 / 12 / 2004\n",
      "12 / 12 / 2004\n"
     ]
    }
   ],
   "source": [
    "date = int(input())\n",
    "month = int(input())\n",
    "year = int(input())\n",
    "def date_logic():\n",
    "    month_list = [m for m in range(1,13)]\n",
    "    if month in month_list:\n",
    "        if month % 2 == 1:\n",
    "            nos = [no for no in range(1,32)]\n",
    "        elif month == 2:\n",
    "            if year % 4 == 0:\n",
    "                nos = [no for no in range(1,30)]\n",
    "                print('leap year')\n",
    "            else:\n",
    "                nos = [no for no in range(1,29)]\n",
    "        else:\n",
    "            nos = [no for no in range(1,31) ]\n",
    "        for i in nos:\n",
    "            if date == i:\n",
    "                print('For US')\n",
    "                print(date,'/',month,'/',year)\n",
    "                print('For EU')\n",
    "                print(month,'/',date,'/',year)\n",
    "    else:\n",
    "        print('Invalid Input')\n",
    "date_logic()"
   ]
  },
  {
   "cell_type": "markdown",
   "id": "0058f793",
   "metadata": {},
   "source": [
    "## approach 2"
   ]
  },
  {
   "cell_type": "code",
   "execution_count": null,
   "id": "1195c187",
   "metadata": {},
   "outputs": [],
   "source": []
  }
 ],
 "metadata": {
  "kernelspec": {
   "display_name": "Python 3 (ipykernel)",
   "language": "python",
   "name": "python3"
  },
  "language_info": {
   "codemirror_mode": {
    "name": "ipython",
    "version": 3
   },
   "file_extension": ".py",
   "mimetype": "text/x-python",
   "name": "python",
   "nbconvert_exporter": "python",
   "pygments_lexer": "ipython3",
   "version": "3.9.6"
  }
 },
 "nbformat": 4,
 "nbformat_minor": 5
}
