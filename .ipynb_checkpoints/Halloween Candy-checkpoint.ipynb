{
 "cells": [
  {
   "cell_type": "markdown",
   "id": "1bd489d1",
   "metadata": {},
   "source": [
    "# Halloween Candy"
   ]
  },
  {
   "cell_type": "code",
   "execution_count": null,
   "id": "f51fcb4b",
   "metadata": {},
   "outputs": [],
   "source": [
    "houses = int(input(\"Enter the total number of houses that you visited:\"))\n",
    "#interger >=3\n",
    "#after visiting 4 houses  we get 1 house candy 2 house dollar bill  1 would be a toothbrush \n",
    "def halloween(houses):\n",
    "    if houses>=3:\n",
    "        average = (2/houses)*100\n",
    "        percentage = round(average) \n",
    "        return percentage\n",
    "print(halloween(houses))"
   ]
  }
 ],
 "metadata": {
  "kernelspec": {
   "display_name": "Python 3 (ipykernel)",
   "language": "python",
   "name": "python3"
  },
  "language_info": {
   "codemirror_mode": {
    "name": "ipython",
    "version": 3
   },
   "file_extension": ".py",
   "mimetype": "text/x-python",
   "name": "python",
   "nbconvert_exporter": "python",
   "pygments_lexer": "ipython3",
   "version": "3.9.6"
  }
 },
 "nbformat": 4,
 "nbformat_minor": 5
}
