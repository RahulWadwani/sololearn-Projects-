{
 "cells": [
  {
   "cell_type": "markdown",
   "id": "3ec16ec4",
   "metadata": {},
   "source": [
    "# paint costs"
   ]
  },
  {
   "cell_type": "code",
   "execution_count": null,
   "id": "c704107f",
   "metadata": {},
   "outputs": [],
   "source": [
    "canvas an brushes = 40.00\n",
    "paint = +5.00\n",
    "number of colors as input\n",
    "+10% tax"
   ]
  },
  {
   "cell_type": "code",
   "execution_count": 15,
   "id": "19a7bb54",
   "metadata": {},
   "outputs": [
    {
     "name": "stdout",
     "output_type": "stream",
     "text": [
      "Enter the number of colors you need : 5\n",
      "71\n"
     ]
    }
   ],
   "source": [
    "no_of_colors = int(input(\"Enter the number of colors you need : \"))\n",
    "cost = float(no_of_colors * 5) + 40 \n",
    "total_cost = cost + (cost * (10/100))\n",
    "print(int(total_cost))"
   ]
  }
 ],
 "metadata": {
  "kernelspec": {
   "display_name": "Python 3 (ipykernel)",
   "language": "python",
   "name": "python3"
  },
  "language_info": {
   "codemirror_mode": {
    "name": "ipython",
    "version": 3
   },
   "file_extension": ".py",
   "mimetype": "text/x-python",
   "name": "python",
   "nbconvert_exporter": "python",
   "pygments_lexer": "ipython3",
   "version": "3.9.6"
  }
 },
 "nbformat": 4,
 "nbformat_minor": 5
}
