{
 "cells": [
  {
   "cell_type": "markdown",
   "id": "84abde24",
   "metadata": {},
   "source": [
    "# The Spy Life"
   ]
  },
  {
   "cell_type": "code",
   "execution_count": 1,
   "id": "e522dc2e",
   "metadata": {},
   "outputs": [
    {
     "name": "stdout",
     "output_type": "stream",
     "text": [
      "Enter you encoded message: g@@n$#i@!o#$d$%^ u@#$%2o124y132 15@e@#$r2!@a!@# w123o!$h12 123o@!ll!@#eh12!@#\n"
     ]
    },
    {
     "data": {
      "text/plain": [
       "'hello how are you doing'"
      ]
     },
     "execution_count": 1,
     "metadata": {},
     "output_type": "execute_result"
    }
   ],
   "source": [
    "string = str(input(\"Enter you encoded message: \"))\n",
    "coded = string[::-1]\n",
    "decoded = ''\n",
    "for i in coded:\n",
    "    if ((ord(i)>=65 and ord(i)<=90) or (ord(i)>=97 and ord(i)<=122) or (ord(i)==32)):\n",
    "        decoded += i\n",
    "decoded"
   ]
  }
 ],
 "metadata": {
  "kernelspec": {
   "display_name": "Python 3 (ipykernel)",
   "language": "python",
   "name": "python3"
  },
  "language_info": {
   "codemirror_mode": {
    "name": "ipython",
    "version": 3
   },
   "file_extension": ".py",
   "mimetype": "text/x-python",
   "name": "python",
   "nbconvert_exporter": "python",
   "pygments_lexer": "ipython3",
   "version": "3.9.6"
  }
 },
 "nbformat": 4,
 "nbformat_minor": 5
}
