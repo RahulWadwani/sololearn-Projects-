{
 "cells": [
  {
   "cell_type": "markdown",
   "id": "c0bed126",
   "metadata": {},
   "source": [
    "# Jungle camp"
   ]
  },
  {
   "cell_type": "markdown",
   "id": "c404938c",
   "metadata": {},
   "source": [
    "## Using String and Dictionary"
   ]
  },
  {
   "cell_type": "code",
   "execution_count": 35,
   "id": "c41e2bef",
   "metadata": {},
   "outputs": [
    {
     "name": "stdout",
     "output_type": "stream",
     "text": [
      "grr\n",
      "Ssss\n",
      "chirp\n",
      "grr Ssss chirp \n",
      "Lions Snakes Birds \n"
     ]
    }
   ],
   "source": [
    "#creating a dictionary of animals and their noises accordingly\n",
    "noises = {\n",
    "    'Lions':'Grr',\n",
    "    'Tigers':'Rawr',\n",
    "    'Snakes':'Ssss',\n",
    "    'Birds':'Chirp'\n",
    "}\n",
    "\n",
    "#inputing the values from the user as string \n",
    "string = ''\n",
    "for input_ in range(3):\n",
    "    input_ = str(input())\n",
    "    string += input_ + ' '\n",
    "print(string)   \n",
    "\n",
    "#adding values \n",
    "animals = ''\n",
    "for i in string.split(' '):\n",
    "    for noise in noises:\n",
    "        if (i.lower() == noises[noise].lower()):\n",
    "            animals += noise + ' '\n",
    "print(animals)\n",
    "            "
   ]
  },
  {
   "cell_type": "markdown",
   "id": "b357f2d0",
   "metadata": {},
   "source": [
    "## Using List and Dictionary"
   ]
  },
  {
   "cell_type": "code",
   "execution_count": 12,
   "id": "6537c767",
   "metadata": {},
   "outputs": [
    {
     "name": "stdout",
     "output_type": "stream",
     "text": [
      "Grr\n",
      "Ssss\n",
      "Chirp\n",
      "['Grr', 'Ssss', 'Chirp']\n",
      "['Lions', 'Snakes', 'Birds']\n"
     ]
    }
   ],
   "source": [
    "#creating dictionary of noises\n",
    "noises = {\n",
    "    'Lions':'Grr',\n",
    "    'Tigers':'Rawr',\n",
    "    'Snakes':'Ssss',\n",
    "    'Birds':'Chirp'\n",
    "}\n",
    "\n",
    "#inputing the sounds  \n",
    "noise1 = str(input())\n",
    "noise2 = str(input())\n",
    "noise3 = str(input())\n",
    "noise_total = [noise1,noise2,noise3]\n",
    "print(noise_total)\n",
    "\n",
    "#appending the animals\n",
    "animals = []\n",
    "for noise in noises:\n",
    "    if ((noise1 == noises[noise]) or (noise2 == noises[noise]) or (noise3 == noises[noise])) :\n",
    "        animals.append(noise)\n",
    "print(animals)"
   ]
  }
 ],
 "metadata": {
  "kernelspec": {
   "display_name": "Python 3 (ipykernel)",
   "language": "python",
   "name": "python3"
  },
  "language_info": {
   "codemirror_mode": {
    "name": "ipython",
    "version": 3
   },
   "file_extension": ".py",
   "mimetype": "text/x-python",
   "name": "python",
   "nbconvert_exporter": "python",
   "pygments_lexer": "ipython3",
   "version": "3.9.6"
  },
  "vscode": {
   "interpreter": {
    "hash": "1c4eeb78d5e1dc6cb6e62b5bd20620b702dce5b8b8ded6688ef7aad2e1c0d17c"
   }
  }
 },
 "nbformat": 4,
 "nbformat_minor": 5
}
