{
 "cells": [
  {
   "cell_type": "markdown",
   "id": "c0bed126",
   "metadata": {},
   "source": [
    "# Jungle camp"
   ]
  },
  {
   "cell_type": "code",
   "execution_count": null,
   "id": "6537c767",
   "metadata": {},
   "outputs": [],
   "source": [
    "noises = {'Lions':'Grr','Tigers':'Rawr','Snakes':'Ssss','Birds':'Chirp'}\n",
    "lis = ''\n",
    "for i in range(1,4):\n",
    "    noise = str(input(\"Noise \"+str(i)+\": \"))\n",
    "    lis += noise + ' '\n",
    "print(lis)\n",
    "animal = []\n",
    "for animals in noises:\n",
    "    for j in lis:\n",
    "        print(noises[animals] == j)\n",
    "        if noises[animals] == j:\n",
    "            animal.append(animals)\n",
    "            \n"
   ]
  }
 ],
 "metadata": {
  "kernelspec": {
   "display_name": "Python 3 (ipykernel)",
   "language": "python",
   "name": "python3"
  },
  "language_info": {
   "codemirror_mode": {
    "name": "ipython",
    "version": 3
   },
   "file_extension": ".py",
   "mimetype": "text/x-python",
   "name": "python",
   "nbconvert_exporter": "python",
   "pygments_lexer": "ipython3",
   "version": "3.9.6"
  }
 },
 "nbformat": 4,
 "nbformat_minor": 5
}
